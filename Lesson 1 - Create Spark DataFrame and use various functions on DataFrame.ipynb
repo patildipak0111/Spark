{
 "cells": [
  {
   "cell_type": "code",
   "execution_count": 1,
   "id": "b941e111",
   "metadata": {},
   "outputs": [],
   "source": [
    "import pyspark\n",
    "import pyspark.sql\n",
    "from pyspark.sql import SparkSession  # SparkSession is used to declare spark variable\n",
    "from pyspark import SparkContext      # to declare spark context\n",
    "from pyspark.sql.functions import *   "
   ]
  },
  {
   "cell_type": "markdown",
   "id": "cfea9846",
   "metadata": {},
   "source": [
    "# Declare Spark Variable"
   ]
  },
  {
   "cell_type": "code",
   "execution_count": 2,
   "id": "59e181b5",
   "metadata": {},
   "outputs": [
    {
     "name": "stderr",
     "output_type": "stream",
     "text": [
      "Using Spark's default log4j profile: org/apache/spark/log4j-defaults.properties\n",
      "Setting default log level to \"WARN\".\n",
      "To adjust logging level use sc.setLogLevel(newLevel). For SparkR, use setLogLevel(newLevel).\n",
      "22/02/13 00:01:00 WARN NativeCodeLoader: Unable to load native-hadoop library for your platform... using builtin-java classes where applicable\n",
      "22/02/13 00:01:01 WARN Utils: Service 'SparkUI' could not bind on port 4040. Attempting port 4041.\n",
      "22/02/13 00:01:01 WARN Utils: Service 'SparkUI' could not bind on port 4041. Attempting port 4042.\n",
      "22/02/13 00:01:01 WARN Utils: Service 'SparkUI' could not bind on port 4042. Attempting port 4043.\n"
     ]
    }
   ],
   "source": [
    "spark = (SparkSession.builder.appName('MyApp').getOrCreate())"
   ]
  },
  {
   "cell_type": "markdown",
   "id": "8488e6d0",
   "metadata": {},
   "source": [
    "# Create Schema example below"
   ]
  },
  {
   "cell_type": "code",
   "execution_count": 7,
   "id": "33601b90",
   "metadata": {},
   "outputs": [],
   "source": [
    "df = spark.createDataFrame([('bai',39),('tai',19),('mahesh',38),('suresh',34),('ramesh',7),('hitesh',4)],\n",
    "                           ('name','age'))"
   ]
  },
  {
   "cell_type": "code",
   "execution_count": 8,
   "id": "7e66d5de",
   "metadata": {},
   "outputs": [
    {
     "name": "stderr",
     "output_type": "stream",
     "text": [
      "\r",
      "[Stage 1:>                                                          (0 + 1) / 1]\r",
      "\r",
      "                                                                                \r"
     ]
    },
    {
     "name": "stdout",
     "output_type": "stream",
     "text": [
      "+------+---+\n",
      "|  name|age|\n",
      "+------+---+\n",
      "|   bai| 39|\n",
      "|   tai| 19|\n",
      "|mahesh| 38|\n",
      "|suresh| 34|\n",
      "|ramesh|  7|\n",
      "|hitesh|  4|\n",
      "+------+---+\n",
      "\n"
     ]
    }
   ],
   "source": [
    "df.show()"
   ]
  },
  {
   "cell_type": "markdown",
   "id": "4593f741",
   "metadata": {},
   "source": [
    "# Aggregate avg function"
   ]
  },
  {
   "cell_type": "code",
   "execution_count": 48,
   "id": "c7bace5b",
   "metadata": {},
   "outputs": [
    {
     "name": "stdout",
     "output_type": "stream",
     "text": [
      "+--------+\n",
      "|avg(age)|\n",
      "+--------+\n",
      "|    23.5|\n",
      "+--------+\n",
      "\n"
     ]
    }
   ],
   "source": [
    "df.agg(avg('age')).show()"
   ]
  },
  {
   "cell_type": "code",
   "execution_count": 49,
   "id": "7cf6fc1d",
   "metadata": {},
   "outputs": [],
   "source": [
    "df.createOrReplaceTempView(\"TempView\") # Create temp view using data frame"
   ]
  },
  {
   "cell_type": "code",
   "execution_count": 62,
   "id": "1e973dc8",
   "metadata": {},
   "outputs": [],
   "source": [
    "df2 = spark.sql('select name from TempView')  # Spark sql example"
   ]
  },
  {
   "cell_type": "code",
   "execution_count": 63,
   "id": "fab1c047",
   "metadata": {},
   "outputs": [
    {
     "name": "stdout",
     "output_type": "stream",
     "text": [
      "+------+\n",
      "|  name|\n",
      "+------+\n",
      "|   bai|\n",
      "|   tai|\n",
      "|mahesh|\n",
      "|suresh|\n",
      "|ramesh|\n",
      "|hitesh|\n",
      "+------+\n",
      "\n"
     ]
    }
   ],
   "source": [
    "df2.show()"
   ]
  },
  {
   "cell_type": "code",
   "execution_count": 26,
   "id": "fcf21c7f",
   "metadata": {},
   "outputs": [],
   "source": [
    "# to load multiple csv files NYC Taxy data - create list variable of all files\n",
    "\n",
    "paths = [\"/Users/dipak/Spark/data/NYC_Taxi/yellow_tripdata_2021-01.csv\",\n",
    "         \"/Users/dipak/Spark/data/NYC_Taxi/yellow_tripdata_2021-02.csv\",\n",
    "         \"/Users/dipak/Spark/data/NYC_Taxi/yellow_tripdata_2021-03.csv\",\n",
    "         \"/Users/dipak/Spark/data/NYC_Taxi/yellow_tripdata_2020-03.csv\",\n",
    "         \"/Users/dipak/Spark/data/NYC_Taxi/yellow_tripdata_2020-04.csv\",\n",
    "         \"/Users/dipak/Spark/data/NYC_Taxi/yellow_tripdata_2019-05.csv\",\n",
    "         \"/Users/dipak/Spark/data/NYC_Taxi/yellow_tripdata_2019-06.csv\"]"
   ]
  },
  {
   "cell_type": "code",
   "execution_count": 32,
   "id": "e8e97d44",
   "metadata": {},
   "outputs": [],
   "source": [
    "nycDf=spark.read.format('csv').option(\"header\",\"true\").load(paths)"
   ]
  },
  {
   "cell_type": "code",
   "execution_count": 33,
   "id": "51c2ba56",
   "metadata": {},
   "outputs": [
    {
     "name": "stderr",
     "output_type": "stream",
     "text": [
      "                                                                                \r"
     ]
    },
    {
     "data": {
      "text/plain": [
       "22418195"
      ]
     },
     "execution_count": 33,
     "metadata": {},
     "output_type": "execute_result"
    }
   ],
   "source": [
    "nycDf.count() # 2.2 Bn total records"
   ]
  },
  {
   "cell_type": "code",
   "execution_count": 34,
   "id": "aeb625b6",
   "metadata": {},
   "outputs": [
    {
     "name": "stdout",
     "output_type": "stream",
     "text": [
      "root\n",
      " |-- VendorID: string (nullable = true)\n",
      " |-- tpep_pickup_datetime: string (nullable = true)\n",
      " |-- tpep_dropoff_datetime: string (nullable = true)\n",
      " |-- passenger_count: string (nullable = true)\n",
      " |-- trip_distance: string (nullable = true)\n",
      " |-- RatecodeID: string (nullable = true)\n",
      " |-- store_and_fwd_flag: string (nullable = true)\n",
      " |-- PULocationID: string (nullable = true)\n",
      " |-- DOLocationID: string (nullable = true)\n",
      " |-- payment_type: string (nullable = true)\n",
      " |-- fare_amount: string (nullable = true)\n",
      " |-- extra: string (nullable = true)\n",
      " |-- mta_tax: string (nullable = true)\n",
      " |-- tip_amount: string (nullable = true)\n",
      " |-- tolls_amount: string (nullable = true)\n",
      " |-- improvement_surcharge: string (nullable = true)\n",
      " |-- total_amount: string (nullable = true)\n",
      " |-- congestion_surcharge: string (nullable = true)\n",
      "\n"
     ]
    }
   ],
   "source": [
    "nycDf.printSchema() # Shows the structure of the data frame with all the columns and data type."
   ]
  }
 ],
 "metadata": {
  "kernelspec": {
   "display_name": "Python 3 (ipykernel)",
   "language": "python",
   "name": "python3"
  },
  "language_info": {
   "codemirror_mode": {
    "name": "ipython",
    "version": 3
   },
   "file_extension": ".py",
   "mimetype": "text/x-python",
   "name": "python",
   "nbconvert_exporter": "python",
   "pygments_lexer": "ipython3",
   "version": "3.9.7"
  }
 },
 "nbformat": 4,
 "nbformat_minor": 5
}
